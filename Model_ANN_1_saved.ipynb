{
  "nbformat": 4,
  "nbformat_minor": 0,
  "metadata": {
    "colab": {
      "provenance": [],
      "include_colab_link": true
    },
    "kernelspec": {
      "name": "python3",
      "display_name": "Python 3"
    },
    "language_info": {
      "name": "python"
    }
  },
  "cells": [
    {
      "cell_type": "markdown",
      "metadata": {
        "id": "view-in-github",
        "colab_type": "text"
      },
      "source": [
        "<a href=\"https://colab.research.google.com/github/lutfiluas1920/C23-PC604-Antilergi-Bangkit-2023/blob/main/Model_ANN_1_saved.ipynb\" target=\"_parent\"><img src=\"https://colab.research.google.com/assets/colab-badge.svg\" alt=\"Open In Colab\"/></a>"
      ]
    },
    {
      "cell_type": "code",
      "execution_count": 91,
      "metadata": {
        "id": "SqxfR0zkmOAO"
      },
      "outputs": [],
      "source": [
        "import tensorflow as tf\n",
        "from tensorflow import keras\n",
        "from tensorflow.keras.models import Sequential\n",
        "from sklearn import metrics\n",
        "from keras.layers import Conv1D, MaxPooling1D, Conv2D, MaxPooling2D, Dropout, Flatten, Activation, BatchNormalization\n",
        "from tensorflow.keras.layers import Dense\n",
        "from tensorflow.keras.callbacks import EarlyStopping\n",
        "import matplotlib.pyplot as plt\n",
        "from sklearn.model_selection import train_test_split\n",
        "from sklearn.metrics import accuracy_score, confusion_matrix, precision_recall_fscore_support\n",
        "import pandas as pd\n",
        "import numpy as np\n",
        "import os"
      ]
    },
    {
      "cell_type": "code",
      "source": [
        "# membaca dataset dari file CSV\n",
        "dataset = pd.read_csv('dataset_ann.csv')"
      ],
      "metadata": {
        "id": "kMg_mNL1mY_1"
      },
      "execution_count": 92,
      "outputs": []
    },
    {
      "cell_type": "code",
      "source": [
        "#label di kolom riwayat_alergi\n",
        "#alergi 0 = bulu hewan, 1 = debu/tungau, 2 = makanan, 3 = obat, 4 = serbuk sari, 5 = suhu udara (dingin/panas)\n",
        "#jumlah kolom sebanyak 19 kolom\n",
        "dataset"
      ],
      "metadata": {
        "colab": {
          "base_uri": "https://localhost:8080/",
          "height": 487
        },
        "id": "FV_P1HSNmpwx",
        "outputId": "7f2bd0b2-ce8f-4fdb-b329-7122e7aa6037"
      },
      "execution_count": 93,
      "outputs": [
        {
          "output_type": "execute_result",
          "data": {
            "text/plain": [
              "     kulit_gatal  ruam_atau_kulit_memerah  bengkak_di_wajah  bengkak_di_bibir  \\\n",
              "0              1                        1                 1                 0   \n",
              "1              1                        1                 0                 0   \n",
              "2              1                        1                 1                 0   \n",
              "3              1                        1                 0                 0   \n",
              "4              1                        1                 1                 1   \n",
              "..           ...                      ...               ...               ...   \n",
              "682            1                        1                 1                 1   \n",
              "683            0                        0                 0                 0   \n",
              "684            1                        1                 0                 0   \n",
              "685            0                        0                 0                 0   \n",
              "686            1                        1                 1                 1   \n",
              "\n",
              "     gatal_di_mulut  kesemutan_atau_kebas_di_mulut  gatal_di_daerah_mata  \\\n",
              "0                 0                              0                     0   \n",
              "1                 0                              0                     0   \n",
              "2                 0                              0                     1   \n",
              "3                 0                              0                     0   \n",
              "4                 1                              1                     1   \n",
              "..              ...                            ...                   ...   \n",
              "682               1                              1                     0   \n",
              "683               0                              0                     0   \n",
              "684               0                              0                     1   \n",
              "685               0                              0                     0   \n",
              "686               1                              1                     1   \n",
              "\n",
              "     bengkak_di_daerah_mata  mata_memerah  bersin  hidung_tersumbat  batuk  \\\n",
              "0                         0             0       1                 0      0   \n",
              "1                         0             0       0                 0      0   \n",
              "2                         0             0       1                 1      1   \n",
              "3                         0             1       1                 1      1   \n",
              "4                         1             0       1                 1      0   \n",
              "..                      ...           ...     ...               ...    ...   \n",
              "682                       1             0       0                 0      1   \n",
              "683                       0             0       0                 0      0   \n",
              "684                       1             0       1                 1      1   \n",
              "685                       0             0       0                 0      0   \n",
              "686                       0             1       0                 0      1   \n",
              "\n",
              "     sesak_napas  pilek  sakit_perut  mual  muntah  diare  \\\n",
              "0              0      1            0     0       0      0   \n",
              "1              0      0            0     0       0      0   \n",
              "2              0      1            0     0       0      0   \n",
              "3              0      1            0     0       0      0   \n",
              "4              1      0            1     1       0      1   \n",
              "..           ...    ...          ...   ...     ...    ...   \n",
              "682            1      0            1     1       1      1   \n",
              "683            0      0            0     0       0      0   \n",
              "684            0      0            0     0       0      0   \n",
              "685            0      0            1     1       1      1   \n",
              "686            1      0            1     1       1      0   \n",
              "\n",
              "     kambuh_di_musim_tertentu  riwayat_alergi  \n",
              "0                           0               5  \n",
              "1                           0               2  \n",
              "2                           1               5  \n",
              "3                           0               1  \n",
              "4                           1               2  \n",
              "..                        ...             ...  \n",
              "682                         0               2  \n",
              "683                         0               1  \n",
              "684                         0               0  \n",
              "685                         0               2  \n",
              "686                         0               3  \n",
              "\n",
              "[687 rows x 20 columns]"
            ],
            "text/html": [
              "\n",
              "  <div id=\"df-5f6c163e-2f64-4286-bc90-f8109bb67668\">\n",
              "    <div class=\"colab-df-container\">\n",
              "      <div>\n",
              "<style scoped>\n",
              "    .dataframe tbody tr th:only-of-type {\n",
              "        vertical-align: middle;\n",
              "    }\n",
              "\n",
              "    .dataframe tbody tr th {\n",
              "        vertical-align: top;\n",
              "    }\n",
              "\n",
              "    .dataframe thead th {\n",
              "        text-align: right;\n",
              "    }\n",
              "</style>\n",
              "<table border=\"1\" class=\"dataframe\">\n",
              "  <thead>\n",
              "    <tr style=\"text-align: right;\">\n",
              "      <th></th>\n",
              "      <th>kulit_gatal</th>\n",
              "      <th>ruam_atau_kulit_memerah</th>\n",
              "      <th>bengkak_di_wajah</th>\n",
              "      <th>bengkak_di_bibir</th>\n",
              "      <th>gatal_di_mulut</th>\n",
              "      <th>kesemutan_atau_kebas_di_mulut</th>\n",
              "      <th>gatal_di_daerah_mata</th>\n",
              "      <th>bengkak_di_daerah_mata</th>\n",
              "      <th>mata_memerah</th>\n",
              "      <th>bersin</th>\n",
              "      <th>hidung_tersumbat</th>\n",
              "      <th>batuk</th>\n",
              "      <th>sesak_napas</th>\n",
              "      <th>pilek</th>\n",
              "      <th>sakit_perut</th>\n",
              "      <th>mual</th>\n",
              "      <th>muntah</th>\n",
              "      <th>diare</th>\n",
              "      <th>kambuh_di_musim_tertentu</th>\n",
              "      <th>riwayat_alergi</th>\n",
              "    </tr>\n",
              "  </thead>\n",
              "  <tbody>\n",
              "    <tr>\n",
              "      <th>0</th>\n",
              "      <td>1</td>\n",
              "      <td>1</td>\n",
              "      <td>1</td>\n",
              "      <td>0</td>\n",
              "      <td>0</td>\n",
              "      <td>0</td>\n",
              "      <td>0</td>\n",
              "      <td>0</td>\n",
              "      <td>0</td>\n",
              "      <td>1</td>\n",
              "      <td>0</td>\n",
              "      <td>0</td>\n",
              "      <td>0</td>\n",
              "      <td>1</td>\n",
              "      <td>0</td>\n",
              "      <td>0</td>\n",
              "      <td>0</td>\n",
              "      <td>0</td>\n",
              "      <td>0</td>\n",
              "      <td>5</td>\n",
              "    </tr>\n",
              "    <tr>\n",
              "      <th>1</th>\n",
              "      <td>1</td>\n",
              "      <td>1</td>\n",
              "      <td>0</td>\n",
              "      <td>0</td>\n",
              "      <td>0</td>\n",
              "      <td>0</td>\n",
              "      <td>0</td>\n",
              "      <td>0</td>\n",
              "      <td>0</td>\n",
              "      <td>0</td>\n",
              "      <td>0</td>\n",
              "      <td>0</td>\n",
              "      <td>0</td>\n",
              "      <td>0</td>\n",
              "      <td>0</td>\n",
              "      <td>0</td>\n",
              "      <td>0</td>\n",
              "      <td>0</td>\n",
              "      <td>0</td>\n",
              "      <td>2</td>\n",
              "    </tr>\n",
              "    <tr>\n",
              "      <th>2</th>\n",
              "      <td>1</td>\n",
              "      <td>1</td>\n",
              "      <td>1</td>\n",
              "      <td>0</td>\n",
              "      <td>0</td>\n",
              "      <td>0</td>\n",
              "      <td>1</td>\n",
              "      <td>0</td>\n",
              "      <td>0</td>\n",
              "      <td>1</td>\n",
              "      <td>1</td>\n",
              "      <td>1</td>\n",
              "      <td>0</td>\n",
              "      <td>1</td>\n",
              "      <td>0</td>\n",
              "      <td>0</td>\n",
              "      <td>0</td>\n",
              "      <td>0</td>\n",
              "      <td>1</td>\n",
              "      <td>5</td>\n",
              "    </tr>\n",
              "    <tr>\n",
              "      <th>3</th>\n",
              "      <td>1</td>\n",
              "      <td>1</td>\n",
              "      <td>0</td>\n",
              "      <td>0</td>\n",
              "      <td>0</td>\n",
              "      <td>0</td>\n",
              "      <td>0</td>\n",
              "      <td>0</td>\n",
              "      <td>1</td>\n",
              "      <td>1</td>\n",
              "      <td>1</td>\n",
              "      <td>1</td>\n",
              "      <td>0</td>\n",
              "      <td>1</td>\n",
              "      <td>0</td>\n",
              "      <td>0</td>\n",
              "      <td>0</td>\n",
              "      <td>0</td>\n",
              "      <td>0</td>\n",
              "      <td>1</td>\n",
              "    </tr>\n",
              "    <tr>\n",
              "      <th>4</th>\n",
              "      <td>1</td>\n",
              "      <td>1</td>\n",
              "      <td>1</td>\n",
              "      <td>1</td>\n",
              "      <td>1</td>\n",
              "      <td>1</td>\n",
              "      <td>1</td>\n",
              "      <td>1</td>\n",
              "      <td>0</td>\n",
              "      <td>1</td>\n",
              "      <td>1</td>\n",
              "      <td>0</td>\n",
              "      <td>1</td>\n",
              "      <td>0</td>\n",
              "      <td>1</td>\n",
              "      <td>1</td>\n",
              "      <td>0</td>\n",
              "      <td>1</td>\n",
              "      <td>1</td>\n",
              "      <td>2</td>\n",
              "    </tr>\n",
              "    <tr>\n",
              "      <th>...</th>\n",
              "      <td>...</td>\n",
              "      <td>...</td>\n",
              "      <td>...</td>\n",
              "      <td>...</td>\n",
              "      <td>...</td>\n",
              "      <td>...</td>\n",
              "      <td>...</td>\n",
              "      <td>...</td>\n",
              "      <td>...</td>\n",
              "      <td>...</td>\n",
              "      <td>...</td>\n",
              "      <td>...</td>\n",
              "      <td>...</td>\n",
              "      <td>...</td>\n",
              "      <td>...</td>\n",
              "      <td>...</td>\n",
              "      <td>...</td>\n",
              "      <td>...</td>\n",
              "      <td>...</td>\n",
              "      <td>...</td>\n",
              "    </tr>\n",
              "    <tr>\n",
              "      <th>682</th>\n",
              "      <td>1</td>\n",
              "      <td>1</td>\n",
              "      <td>1</td>\n",
              "      <td>1</td>\n",
              "      <td>1</td>\n",
              "      <td>1</td>\n",
              "      <td>0</td>\n",
              "      <td>1</td>\n",
              "      <td>0</td>\n",
              "      <td>0</td>\n",
              "      <td>0</td>\n",
              "      <td>1</td>\n",
              "      <td>1</td>\n",
              "      <td>0</td>\n",
              "      <td>1</td>\n",
              "      <td>1</td>\n",
              "      <td>1</td>\n",
              "      <td>1</td>\n",
              "      <td>0</td>\n",
              "      <td>2</td>\n",
              "    </tr>\n",
              "    <tr>\n",
              "      <th>683</th>\n",
              "      <td>0</td>\n",
              "      <td>0</td>\n",
              "      <td>0</td>\n",
              "      <td>0</td>\n",
              "      <td>0</td>\n",
              "      <td>0</td>\n",
              "      <td>0</td>\n",
              "      <td>0</td>\n",
              "      <td>0</td>\n",
              "      <td>0</td>\n",
              "      <td>0</td>\n",
              "      <td>0</td>\n",
              "      <td>0</td>\n",
              "      <td>0</td>\n",
              "      <td>0</td>\n",
              "      <td>0</td>\n",
              "      <td>0</td>\n",
              "      <td>0</td>\n",
              "      <td>0</td>\n",
              "      <td>1</td>\n",
              "    </tr>\n",
              "    <tr>\n",
              "      <th>684</th>\n",
              "      <td>1</td>\n",
              "      <td>1</td>\n",
              "      <td>0</td>\n",
              "      <td>0</td>\n",
              "      <td>0</td>\n",
              "      <td>0</td>\n",
              "      <td>1</td>\n",
              "      <td>1</td>\n",
              "      <td>0</td>\n",
              "      <td>1</td>\n",
              "      <td>1</td>\n",
              "      <td>1</td>\n",
              "      <td>0</td>\n",
              "      <td>0</td>\n",
              "      <td>0</td>\n",
              "      <td>0</td>\n",
              "      <td>0</td>\n",
              "      <td>0</td>\n",
              "      <td>0</td>\n",
              "      <td>0</td>\n",
              "    </tr>\n",
              "    <tr>\n",
              "      <th>685</th>\n",
              "      <td>0</td>\n",
              "      <td>0</td>\n",
              "      <td>0</td>\n",
              "      <td>0</td>\n",
              "      <td>0</td>\n",
              "      <td>0</td>\n",
              "      <td>0</td>\n",
              "      <td>0</td>\n",
              "      <td>0</td>\n",
              "      <td>0</td>\n",
              "      <td>0</td>\n",
              "      <td>0</td>\n",
              "      <td>0</td>\n",
              "      <td>0</td>\n",
              "      <td>1</td>\n",
              "      <td>1</td>\n",
              "      <td>1</td>\n",
              "      <td>1</td>\n",
              "      <td>0</td>\n",
              "      <td>2</td>\n",
              "    </tr>\n",
              "    <tr>\n",
              "      <th>686</th>\n",
              "      <td>1</td>\n",
              "      <td>1</td>\n",
              "      <td>1</td>\n",
              "      <td>1</td>\n",
              "      <td>1</td>\n",
              "      <td>1</td>\n",
              "      <td>1</td>\n",
              "      <td>0</td>\n",
              "      <td>1</td>\n",
              "      <td>0</td>\n",
              "      <td>0</td>\n",
              "      <td>1</td>\n",
              "      <td>1</td>\n",
              "      <td>0</td>\n",
              "      <td>1</td>\n",
              "      <td>1</td>\n",
              "      <td>1</td>\n",
              "      <td>0</td>\n",
              "      <td>0</td>\n",
              "      <td>3</td>\n",
              "    </tr>\n",
              "  </tbody>\n",
              "</table>\n",
              "<p>687 rows × 20 columns</p>\n",
              "</div>\n",
              "      <button class=\"colab-df-convert\" onclick=\"convertToInteractive('df-5f6c163e-2f64-4286-bc90-f8109bb67668')\"\n",
              "              title=\"Convert this dataframe to an interactive table.\"\n",
              "              style=\"display:none;\">\n",
              "        \n",
              "  <svg xmlns=\"http://www.w3.org/2000/svg\" height=\"24px\"viewBox=\"0 0 24 24\"\n",
              "       width=\"24px\">\n",
              "    <path d=\"M0 0h24v24H0V0z\" fill=\"none\"/>\n",
              "    <path d=\"M18.56 5.44l.94 2.06.94-2.06 2.06-.94-2.06-.94-.94-2.06-.94 2.06-2.06.94zm-11 1L8.5 8.5l.94-2.06 2.06-.94-2.06-.94L8.5 2.5l-.94 2.06-2.06.94zm10 10l.94 2.06.94-2.06 2.06-.94-2.06-.94-.94-2.06-.94 2.06-2.06.94z\"/><path d=\"M17.41 7.96l-1.37-1.37c-.4-.4-.92-.59-1.43-.59-.52 0-1.04.2-1.43.59L10.3 9.45l-7.72 7.72c-.78.78-.78 2.05 0 2.83L4 21.41c.39.39.9.59 1.41.59.51 0 1.02-.2 1.41-.59l7.78-7.78 2.81-2.81c.8-.78.8-2.07 0-2.86zM5.41 20L4 18.59l7.72-7.72 1.47 1.35L5.41 20z\"/>\n",
              "  </svg>\n",
              "      </button>\n",
              "      \n",
              "  <style>\n",
              "    .colab-df-container {\n",
              "      display:flex;\n",
              "      flex-wrap:wrap;\n",
              "      gap: 12px;\n",
              "    }\n",
              "\n",
              "    .colab-df-convert {\n",
              "      background-color: #E8F0FE;\n",
              "      border: none;\n",
              "      border-radius: 50%;\n",
              "      cursor: pointer;\n",
              "      display: none;\n",
              "      fill: #1967D2;\n",
              "      height: 32px;\n",
              "      padding: 0 0 0 0;\n",
              "      width: 32px;\n",
              "    }\n",
              "\n",
              "    .colab-df-convert:hover {\n",
              "      background-color: #E2EBFA;\n",
              "      box-shadow: 0px 1px 2px rgba(60, 64, 67, 0.3), 0px 1px 3px 1px rgba(60, 64, 67, 0.15);\n",
              "      fill: #174EA6;\n",
              "    }\n",
              "\n",
              "    [theme=dark] .colab-df-convert {\n",
              "      background-color: #3B4455;\n",
              "      fill: #D2E3FC;\n",
              "    }\n",
              "\n",
              "    [theme=dark] .colab-df-convert:hover {\n",
              "      background-color: #434B5C;\n",
              "      box-shadow: 0px 1px 3px 1px rgba(0, 0, 0, 0.15);\n",
              "      filter: drop-shadow(0px 1px 2px rgba(0, 0, 0, 0.3));\n",
              "      fill: #FFFFFF;\n",
              "    }\n",
              "  </style>\n",
              "\n",
              "      <script>\n",
              "        const buttonEl =\n",
              "          document.querySelector('#df-5f6c163e-2f64-4286-bc90-f8109bb67668 button.colab-df-convert');\n",
              "        buttonEl.style.display =\n",
              "          google.colab.kernel.accessAllowed ? 'block' : 'none';\n",
              "\n",
              "        async function convertToInteractive(key) {\n",
              "          const element = document.querySelector('#df-5f6c163e-2f64-4286-bc90-f8109bb67668');\n",
              "          const dataTable =\n",
              "            await google.colab.kernel.invokeFunction('convertToInteractive',\n",
              "                                                     [key], {});\n",
              "          if (!dataTable) return;\n",
              "\n",
              "          const docLinkHtml = 'Like what you see? Visit the ' +\n",
              "            '<a target=\"_blank\" href=https://colab.research.google.com/notebooks/data_table.ipynb>data table notebook</a>'\n",
              "            + ' to learn more about interactive tables.';\n",
              "          element.innerHTML = '';\n",
              "          dataTable['output_type'] = 'display_data';\n",
              "          await google.colab.output.renderOutput(dataTable, element);\n",
              "          const docLink = document.createElement('div');\n",
              "          docLink.innerHTML = docLinkHtml;\n",
              "          element.appendChild(docLink);\n",
              "        }\n",
              "      </script>\n",
              "    </div>\n",
              "  </div>\n",
              "  "
            ]
          },
          "metadata": {},
          "execution_count": 93
        }
      ]
    },
    {
      "cell_type": "code",
      "source": [
        "dataset.dtypes"
      ],
      "metadata": {
        "colab": {
          "base_uri": "https://localhost:8080/"
        },
        "id": "h4vayaS_rM3n",
        "outputId": "85b05b8b-d054-4779-9e1d-36c053aa82fd"
      },
      "execution_count": 94,
      "outputs": [
        {
          "output_type": "execute_result",
          "data": {
            "text/plain": [
              "kulit_gatal                      int64\n",
              "ruam_atau_kulit_memerah          int64\n",
              "bengkak_di_wajah                 int64\n",
              "bengkak_di_bibir                 int64\n",
              "gatal_di_mulut                   int64\n",
              "kesemutan_atau_kebas_di_mulut    int64\n",
              "gatal_di_daerah_mata             int64\n",
              "bengkak_di_daerah_mata           int64\n",
              "mata_memerah                     int64\n",
              "bersin                           int64\n",
              "hidung_tersumbat                 int64\n",
              "batuk                            int64\n",
              "sesak_napas                      int64\n",
              "pilek                            int64\n",
              "sakit_perut                      int64\n",
              "mual                             int64\n",
              "muntah                           int64\n",
              "diare                            int64\n",
              "kambuh_di_musim_tertentu         int64\n",
              "riwayat_alergi                   int64\n",
              "dtype: object"
            ]
          },
          "metadata": {},
          "execution_count": 94
        }
      ]
    },
    {
      "cell_type": "code",
      "source": [
        "# Memisahkan fitur dan label\n",
        "# gejala = dataset.iloc[:, :-1].values\n",
        "# alergi = dataset.iloc[:, -1].values\n",
        "\n",
        "gejala = dataset.drop('riwayat_alergi',axis=1)\n",
        "alergi = dataset['riwayat_alergi']"
      ],
      "metadata": {
        "id": "UR2CuTNBm098"
      },
      "execution_count": 95,
      "outputs": []
    },
    {
      "cell_type": "code",
      "source": [
        "gejala.sum()"
      ],
      "metadata": {
        "colab": {
          "base_uri": "https://localhost:8080/"
        },
        "id": "tizj1Z-JtmxG",
        "outputId": "a19ed3d8-854a-44aa-c6c5-2444ed6f6b79"
      },
      "execution_count": 96,
      "outputs": [
        {
          "output_type": "execute_result",
          "data": {
            "text/plain": [
              "kulit_gatal                      539\n",
              "ruam_atau_kulit_memerah          521\n",
              "bengkak_di_wajah                 231\n",
              "bengkak_di_bibir                 188\n",
              "gatal_di_mulut                   226\n",
              "kesemutan_atau_kebas_di_mulut    126\n",
              "gatal_di_daerah_mata             335\n",
              "bengkak_di_daerah_mata           221\n",
              "mata_memerah                     324\n",
              "bersin                           452\n",
              "hidung_tersumbat                 426\n",
              "batuk                            432\n",
              "sesak_napas                      408\n",
              "pilek                            357\n",
              "sakit_perut                      173\n",
              "mual                             197\n",
              "muntah                           137\n",
              "diare                             83\n",
              "kambuh_di_musim_tertentu         240\n",
              "dtype: int64"
            ]
          },
          "metadata": {},
          "execution_count": 96
        }
      ]
    },
    {
      "cell_type": "code",
      "source": [
        "x_train, x_test, y_train, y_test = train_test_split(gejala, alergi, test_size=0.1, random_state=16, shuffle=True)"
      ],
      "metadata": {
        "id": "fYoOwiWrsbW-"
      },
      "execution_count": 97,
      "outputs": []
    },
    {
      "cell_type": "code",
      "source": [
        "# Membangun model\n",
        "\"\"\"\n",
        "Ningkatin Akuarasi\n",
        "nambahin layer,\n",
        "neuron model\n",
        "function activation bisa diganti relu, sigmoid, leaky relu (coba cek referensi function activatio)\n",
        "\n",
        "\"\"\" \n",
        "model = Sequential()\n",
        "model.add(Dense(160, input_dim=19, activation='relu'))\n",
        "model.add(Dense(64, activation='relu'))\n",
        "model.add(Dense(32, activation='relu'))\n",
        "model.add(Dense(6, activation='softmax'))"
      ],
      "metadata": {
        "id": "-vb8fOvgnFys"
      },
      "execution_count": 98,
      "outputs": []
    },
    {
      "cell_type": "code",
      "source": [
        "# Membuat kompolasi model\n",
        "\"\"\"\n",
        "Mengatur optimizer, learning rate\n",
        "referensi optimizer \n",
        "https://www.google.com/search?q=list+optimizer+ann&tbm=isch&ved=2ahUKEwiE_MX2oZj_AhUmgmMGHQD8AOcQ2-cCegQIABAA&oq=list+optimizer+ann&gs_lcp=CgNpbWcQAzoECCMQJ1DcEliXGmDwG2gAcAB4AIABtAGIAZ8HkgEDMC42mAEAoAEBqgELZ3dzLXdpei1pbWfAAQE&sclient=img&ei=smpzZITbG6aEjuMPgPiDuA4&bih=569&biw=1366#imgrc=kZ03liYln8Me7M&imgdii=yK-C7934uBwupM\n",
        "\"\"\"\n",
        "OPT    = tf.keras.optimizers.Adamax(learning_rate=0.002)\n",
        "model.compile(optimizer=OPT,\n",
        "              loss='sparse_categorical_crossentropy', \n",
        "              metrics=['accuracy'])"
      ],
      "metadata": {
        "id": "J2hDXzs1nzQf"
      },
      "execution_count": 99,
      "outputs": []
    },
    {
      "cell_type": "code",
      "source": [
        "# Melatih model\n",
        "history = model.fit(x_train, y_train, epochs=100, batch_size=16, validation_data=(x_test, y_test))"
      ],
      "metadata": {
        "colab": {
          "base_uri": "https://localhost:8080/"
        },
        "id": "4MAcVW_7n2Yw",
        "outputId": "d3ae50ca-38a5-4199-86d9-97de227e6279"
      },
      "execution_count": 101,
      "outputs": [
        {
          "output_type": "stream",
          "name": "stdout",
          "text": [
            "Epoch 1/100\n",
            "39/39 [==============================] - 1s 7ms/step - loss: 1.6404 - accuracy: 0.3883 - val_loss: 1.4808 - val_accuracy: 0.4203\n",
            "Epoch 2/100\n",
            "39/39 [==============================] - 0s 3ms/step - loss: 1.3200 - accuracy: 0.5485 - val_loss: 1.1833 - val_accuracy: 0.6087\n",
            "Epoch 3/100\n",
            "39/39 [==============================] - 0s 4ms/step - loss: 1.0867 - accuracy: 0.6424 - val_loss: 0.9869 - val_accuracy: 0.6232\n",
            "Epoch 4/100\n",
            "39/39 [==============================] - 0s 3ms/step - loss: 0.9282 - accuracy: 0.6764 - val_loss: 0.8766 - val_accuracy: 0.5942\n",
            "Epoch 5/100\n",
            "39/39 [==============================] - 0s 3ms/step - loss: 0.8213 - accuracy: 0.7023 - val_loss: 0.7845 - val_accuracy: 0.7101\n",
            "Epoch 6/100\n",
            "39/39 [==============================] - 0s 3ms/step - loss: 0.7471 - accuracy: 0.7379 - val_loss: 0.7503 - val_accuracy: 0.6812\n",
            "Epoch 7/100\n",
            "39/39 [==============================] - 0s 3ms/step - loss: 0.6930 - accuracy: 0.7443 - val_loss: 0.6960 - val_accuracy: 0.7246\n",
            "Epoch 8/100\n",
            "39/39 [==============================] - 0s 3ms/step - loss: 0.6420 - accuracy: 0.7832 - val_loss: 0.6632 - val_accuracy: 0.7246\n",
            "Epoch 9/100\n",
            "39/39 [==============================] - 0s 3ms/step - loss: 0.6131 - accuracy: 0.7783 - val_loss: 0.6334 - val_accuracy: 0.7391\n",
            "Epoch 10/100\n",
            "39/39 [==============================] - 0s 3ms/step - loss: 0.5799 - accuracy: 0.7880 - val_loss: 0.6133 - val_accuracy: 0.7391\n",
            "Epoch 11/100\n",
            "39/39 [==============================] - 0s 3ms/step - loss: 0.5477 - accuracy: 0.7896 - val_loss: 0.5801 - val_accuracy: 0.7536\n",
            "Epoch 12/100\n",
            "39/39 [==============================] - 0s 3ms/step - loss: 0.5226 - accuracy: 0.8123 - val_loss: 0.5687 - val_accuracy: 0.7536\n",
            "Epoch 13/100\n",
            "39/39 [==============================] - 0s 3ms/step - loss: 0.4993 - accuracy: 0.8236 - val_loss: 0.5714 - val_accuracy: 0.7826\n",
            "Epoch 14/100\n",
            "39/39 [==============================] - 0s 3ms/step - loss: 0.4704 - accuracy: 0.8350 - val_loss: 0.5300 - val_accuracy: 0.7826\n",
            "Epoch 15/100\n",
            "39/39 [==============================] - 0s 3ms/step - loss: 0.4471 - accuracy: 0.8447 - val_loss: 0.5049 - val_accuracy: 0.8116\n",
            "Epoch 16/100\n",
            "39/39 [==============================] - 0s 3ms/step - loss: 0.4320 - accuracy: 0.8430 - val_loss: 0.4966 - val_accuracy: 0.8261\n",
            "Epoch 17/100\n",
            "39/39 [==============================] - 0s 3ms/step - loss: 0.4191 - accuracy: 0.8544 - val_loss: 0.4779 - val_accuracy: 0.8116\n",
            "Epoch 18/100\n",
            "39/39 [==============================] - 0s 3ms/step - loss: 0.3934 - accuracy: 0.8803 - val_loss: 0.4810 - val_accuracy: 0.8261\n",
            "Epoch 19/100\n",
            "39/39 [==============================] - 0s 3ms/step - loss: 0.3706 - accuracy: 0.8786 - val_loss: 0.4454 - val_accuracy: 0.8116\n",
            "Epoch 20/100\n",
            "39/39 [==============================] - 0s 3ms/step - loss: 0.3580 - accuracy: 0.8867 - val_loss: 0.4375 - val_accuracy: 0.7826\n",
            "Epoch 21/100\n",
            "39/39 [==============================] - 0s 3ms/step - loss: 0.3455 - accuracy: 0.8819 - val_loss: 0.4410 - val_accuracy: 0.8406\n",
            "Epoch 22/100\n",
            "39/39 [==============================] - 0s 3ms/step - loss: 0.3310 - accuracy: 0.8851 - val_loss: 0.4084 - val_accuracy: 0.8551\n",
            "Epoch 23/100\n",
            "39/39 [==============================] - 0s 3ms/step - loss: 0.3236 - accuracy: 0.8867 - val_loss: 0.3935 - val_accuracy: 0.8261\n",
            "Epoch 24/100\n",
            "39/39 [==============================] - 0s 3ms/step - loss: 0.3043 - accuracy: 0.9029 - val_loss: 0.3873 - val_accuracy: 0.8551\n",
            "Epoch 25/100\n",
            "39/39 [==============================] - 0s 3ms/step - loss: 0.2963 - accuracy: 0.8981 - val_loss: 0.3731 - val_accuracy: 0.8406\n",
            "Epoch 26/100\n",
            "39/39 [==============================] - 0s 3ms/step - loss: 0.2872 - accuracy: 0.8997 - val_loss: 0.3553 - val_accuracy: 0.8406\n",
            "Epoch 27/100\n",
            "39/39 [==============================] - 0s 3ms/step - loss: 0.2810 - accuracy: 0.9029 - val_loss: 0.3603 - val_accuracy: 0.8551\n",
            "Epoch 28/100\n",
            "39/39 [==============================] - 0s 3ms/step - loss: 0.2753 - accuracy: 0.9078 - val_loss: 0.3576 - val_accuracy: 0.8551\n",
            "Epoch 29/100\n",
            "39/39 [==============================] - 0s 3ms/step - loss: 0.2597 - accuracy: 0.9045 - val_loss: 0.3414 - val_accuracy: 0.8551\n",
            "Epoch 30/100\n",
            "39/39 [==============================] - 0s 3ms/step - loss: 0.2557 - accuracy: 0.9045 - val_loss: 0.3652 - val_accuracy: 0.8551\n",
            "Epoch 31/100\n",
            "39/39 [==============================] - 0s 3ms/step - loss: 0.2626 - accuracy: 0.9045 - val_loss: 0.3033 - val_accuracy: 0.8696\n",
            "Epoch 32/100\n",
            "39/39 [==============================] - 0s 3ms/step - loss: 0.2393 - accuracy: 0.9142 - val_loss: 0.3139 - val_accuracy: 0.8841\n",
            "Epoch 33/100\n",
            "39/39 [==============================] - 0s 3ms/step - loss: 0.2394 - accuracy: 0.9142 - val_loss: 0.2921 - val_accuracy: 0.8551\n",
            "Epoch 34/100\n",
            "39/39 [==============================] - 0s 3ms/step - loss: 0.2447 - accuracy: 0.9045 - val_loss: 0.2967 - val_accuracy: 0.8551\n",
            "Epoch 35/100\n",
            "39/39 [==============================] - 0s 3ms/step - loss: 0.2236 - accuracy: 0.9159 - val_loss: 0.3034 - val_accuracy: 0.8696\n",
            "Epoch 36/100\n",
            "39/39 [==============================] - 0s 3ms/step - loss: 0.2253 - accuracy: 0.9110 - val_loss: 0.2851 - val_accuracy: 0.8841\n",
            "Epoch 37/100\n",
            "39/39 [==============================] - 0s 3ms/step - loss: 0.2235 - accuracy: 0.9175 - val_loss: 0.2819 - val_accuracy: 0.8841\n",
            "Epoch 38/100\n",
            "39/39 [==============================] - 0s 3ms/step - loss: 0.2120 - accuracy: 0.9142 - val_loss: 0.2743 - val_accuracy: 0.8841\n",
            "Epoch 39/100\n",
            "39/39 [==============================] - 0s 3ms/step - loss: 0.2047 - accuracy: 0.9126 - val_loss: 0.2720 - val_accuracy: 0.8696\n",
            "Epoch 40/100\n",
            "39/39 [==============================] - 0s 3ms/step - loss: 0.2217 - accuracy: 0.9126 - val_loss: 0.2785 - val_accuracy: 0.8841\n",
            "Epoch 41/100\n",
            "39/39 [==============================] - 0s 3ms/step - loss: 0.2059 - accuracy: 0.9159 - val_loss: 0.2461 - val_accuracy: 0.9130\n",
            "Epoch 42/100\n",
            "39/39 [==============================] - 0s 3ms/step - loss: 0.2098 - accuracy: 0.9239 - val_loss: 0.2778 - val_accuracy: 0.8841\n",
            "Epoch 43/100\n",
            "39/39 [==============================] - 0s 3ms/step - loss: 0.1918 - accuracy: 0.9175 - val_loss: 0.2639 - val_accuracy: 0.8696\n",
            "Epoch 44/100\n",
            "39/39 [==============================] - 0s 3ms/step - loss: 0.1942 - accuracy: 0.9272 - val_loss: 0.2736 - val_accuracy: 0.8841\n",
            "Epoch 45/100\n",
            "39/39 [==============================] - 0s 3ms/step - loss: 0.1933 - accuracy: 0.9223 - val_loss: 0.2817 - val_accuracy: 0.8406\n",
            "Epoch 46/100\n",
            "39/39 [==============================] - 0s 3ms/step - loss: 0.1857 - accuracy: 0.9304 - val_loss: 0.2328 - val_accuracy: 0.9130\n",
            "Epoch 47/100\n",
            "39/39 [==============================] - 0s 3ms/step - loss: 0.1937 - accuracy: 0.9272 - val_loss: 0.2249 - val_accuracy: 0.8841\n",
            "Epoch 48/100\n",
            "39/39 [==============================] - 0s 4ms/step - loss: 0.2039 - accuracy: 0.9126 - val_loss: 0.2766 - val_accuracy: 0.8841\n",
            "Epoch 49/100\n",
            "39/39 [==============================] - 0s 4ms/step - loss: 0.1780 - accuracy: 0.9272 - val_loss: 0.2387 - val_accuracy: 0.8841\n",
            "Epoch 50/100\n",
            "39/39 [==============================] - 0s 4ms/step - loss: 0.1769 - accuracy: 0.9288 - val_loss: 0.2175 - val_accuracy: 0.9130\n",
            "Epoch 51/100\n",
            "39/39 [==============================] - 0s 4ms/step - loss: 0.1908 - accuracy: 0.9256 - val_loss: 0.2248 - val_accuracy: 0.8986\n",
            "Epoch 52/100\n",
            "39/39 [==============================] - 0s 4ms/step - loss: 0.1921 - accuracy: 0.9191 - val_loss: 0.2227 - val_accuracy: 0.9275\n",
            "Epoch 53/100\n",
            "39/39 [==============================] - 0s 4ms/step - loss: 0.1714 - accuracy: 0.9304 - val_loss: 0.2392 - val_accuracy: 0.8986\n",
            "Epoch 54/100\n",
            "39/39 [==============================] - 0s 4ms/step - loss: 0.1736 - accuracy: 0.9175 - val_loss: 0.2389 - val_accuracy: 0.8841\n",
            "Epoch 55/100\n",
            "39/39 [==============================] - 0s 4ms/step - loss: 0.1710 - accuracy: 0.9223 - val_loss: 0.2761 - val_accuracy: 0.8551\n",
            "Epoch 56/100\n",
            "39/39 [==============================] - 0s 4ms/step - loss: 0.1689 - accuracy: 0.9272 - val_loss: 0.2419 - val_accuracy: 0.8841\n",
            "Epoch 57/100\n",
            "39/39 [==============================] - 0s 4ms/step - loss: 0.1772 - accuracy: 0.9239 - val_loss: 0.2518 - val_accuracy: 0.8986\n",
            "Epoch 58/100\n",
            "39/39 [==============================] - 0s 4ms/step - loss: 0.1714 - accuracy: 0.9288 - val_loss: 0.2038 - val_accuracy: 0.9275\n",
            "Epoch 59/100\n",
            "39/39 [==============================] - 0s 4ms/step - loss: 0.1687 - accuracy: 0.9239 - val_loss: 0.2769 - val_accuracy: 0.8986\n",
            "Epoch 60/100\n",
            "39/39 [==============================] - 0s 5ms/step - loss: 0.1672 - accuracy: 0.9288 - val_loss: 0.2404 - val_accuracy: 0.9130\n",
            "Epoch 61/100\n",
            "39/39 [==============================] - 0s 5ms/step - loss: 0.1669 - accuracy: 0.9272 - val_loss: 0.2095 - val_accuracy: 0.9130\n",
            "Epoch 62/100\n",
            "39/39 [==============================] - 0s 4ms/step - loss: 0.1627 - accuracy: 0.9272 - val_loss: 0.1877 - val_accuracy: 0.9130\n",
            "Epoch 63/100\n",
            "39/39 [==============================] - 0s 5ms/step - loss: 0.1640 - accuracy: 0.9272 - val_loss: 0.2266 - val_accuracy: 0.9130\n",
            "Epoch 64/100\n",
            "39/39 [==============================] - 0s 4ms/step - loss: 0.1629 - accuracy: 0.9337 - val_loss: 0.2558 - val_accuracy: 0.8841\n",
            "Epoch 65/100\n",
            "39/39 [==============================] - 0s 3ms/step - loss: 0.1627 - accuracy: 0.9288 - val_loss: 0.2228 - val_accuracy: 0.8986\n",
            "Epoch 66/100\n",
            "39/39 [==============================] - 0s 3ms/step - loss: 0.1565 - accuracy: 0.9353 - val_loss: 0.1783 - val_accuracy: 0.9420\n",
            "Epoch 67/100\n",
            "39/39 [==============================] - 0s 3ms/step - loss: 0.1756 - accuracy: 0.9175 - val_loss: 0.1874 - val_accuracy: 0.9130\n",
            "Epoch 68/100\n",
            "39/39 [==============================] - 0s 3ms/step - loss: 0.1633 - accuracy: 0.9337 - val_loss: 0.2394 - val_accuracy: 0.8986\n",
            "Epoch 69/100\n",
            "39/39 [==============================] - 0s 3ms/step - loss: 0.1590 - accuracy: 0.9288 - val_loss: 0.1769 - val_accuracy: 0.8986\n",
            "Epoch 70/100\n",
            "39/39 [==============================] - 0s 3ms/step - loss: 0.1563 - accuracy: 0.9288 - val_loss: 0.2516 - val_accuracy: 0.8986\n",
            "Epoch 71/100\n",
            "39/39 [==============================] - 0s 3ms/step - loss: 0.1631 - accuracy: 0.9369 - val_loss: 0.1893 - val_accuracy: 0.8986\n",
            "Epoch 72/100\n",
            "39/39 [==============================] - 0s 3ms/step - loss: 0.1587 - accuracy: 0.9256 - val_loss: 0.2601 - val_accuracy: 0.8986\n",
            "Epoch 73/100\n",
            "39/39 [==============================] - 0s 3ms/step - loss: 0.1578 - accuracy: 0.9223 - val_loss: 0.1940 - val_accuracy: 0.9130\n",
            "Epoch 74/100\n",
            "39/39 [==============================] - 0s 3ms/step - loss: 0.1517 - accuracy: 0.9369 - val_loss: 0.2071 - val_accuracy: 0.8986\n",
            "Epoch 75/100\n",
            "39/39 [==============================] - 0s 3ms/step - loss: 0.1532 - accuracy: 0.9320 - val_loss: 0.2389 - val_accuracy: 0.8986\n",
            "Epoch 76/100\n",
            "39/39 [==============================] - 0s 3ms/step - loss: 0.1626 - accuracy: 0.9337 - val_loss: 0.3050 - val_accuracy: 0.9130\n",
            "Epoch 77/100\n",
            "39/39 [==============================] - 0s 3ms/step - loss: 0.1650 - accuracy: 0.9239 - val_loss: 0.1952 - val_accuracy: 0.8986\n",
            "Epoch 78/100\n",
            "39/39 [==============================] - 0s 3ms/step - loss: 0.1475 - accuracy: 0.9369 - val_loss: 0.2366 - val_accuracy: 0.9130\n",
            "Epoch 79/100\n",
            "39/39 [==============================] - 0s 3ms/step - loss: 0.1577 - accuracy: 0.9337 - val_loss: 0.2462 - val_accuracy: 0.9130\n",
            "Epoch 80/100\n",
            "39/39 [==============================] - 0s 3ms/step - loss: 0.1502 - accuracy: 0.9272 - val_loss: 0.2281 - val_accuracy: 0.8986\n",
            "Epoch 81/100\n",
            "39/39 [==============================] - 0s 3ms/step - loss: 0.1448 - accuracy: 0.9337 - val_loss: 0.2146 - val_accuracy: 0.9275\n",
            "Epoch 82/100\n",
            "39/39 [==============================] - 0s 3ms/step - loss: 0.1588 - accuracy: 0.9304 - val_loss: 0.1699 - val_accuracy: 0.9130\n",
            "Epoch 83/100\n",
            "39/39 [==============================] - 0s 3ms/step - loss: 0.1508 - accuracy: 0.9320 - val_loss: 0.2163 - val_accuracy: 0.9130\n",
            "Epoch 84/100\n",
            "39/39 [==============================] - 0s 3ms/step - loss: 0.1478 - accuracy: 0.9337 - val_loss: 0.1922 - val_accuracy: 0.9130\n",
            "Epoch 85/100\n",
            "39/39 [==============================] - 0s 3ms/step - loss: 0.1489 - accuracy: 0.9272 - val_loss: 0.2103 - val_accuracy: 0.9130\n",
            "Epoch 86/100\n",
            "39/39 [==============================] - 0s 3ms/step - loss: 0.1786 - accuracy: 0.9207 - val_loss: 0.2747 - val_accuracy: 0.8986\n",
            "Epoch 87/100\n",
            "39/39 [==============================] - 0s 3ms/step - loss: 0.1550 - accuracy: 0.9272 - val_loss: 0.2745 - val_accuracy: 0.9130\n",
            "Epoch 88/100\n",
            "39/39 [==============================] - 0s 3ms/step - loss: 0.1510 - accuracy: 0.9385 - val_loss: 0.1902 - val_accuracy: 0.8841\n",
            "Epoch 89/100\n",
            "39/39 [==============================] - 0s 3ms/step - loss: 0.1457 - accuracy: 0.9320 - val_loss: 0.1872 - val_accuracy: 0.8841\n",
            "Epoch 90/100\n",
            "39/39 [==============================] - 0s 3ms/step - loss: 0.1519 - accuracy: 0.9288 - val_loss: 0.2088 - val_accuracy: 0.9130\n",
            "Epoch 91/100\n",
            "39/39 [==============================] - 0s 3ms/step - loss: 0.1460 - accuracy: 0.9337 - val_loss: 0.1675 - val_accuracy: 0.9130\n",
            "Epoch 92/100\n",
            "39/39 [==============================] - 0s 3ms/step - loss: 0.1512 - accuracy: 0.9239 - val_loss: 0.2064 - val_accuracy: 0.8986\n",
            "Epoch 93/100\n",
            "39/39 [==============================] - 0s 3ms/step - loss: 0.1549 - accuracy: 0.9191 - val_loss: 0.2003 - val_accuracy: 0.9130\n",
            "Epoch 94/100\n",
            "39/39 [==============================] - 0s 3ms/step - loss: 0.1487 - accuracy: 0.9239 - val_loss: 0.1905 - val_accuracy: 0.9130\n",
            "Epoch 95/100\n",
            "39/39 [==============================] - 0s 3ms/step - loss: 0.1579 - accuracy: 0.9239 - val_loss: 0.2062 - val_accuracy: 0.9275\n",
            "Epoch 96/100\n",
            "39/39 [==============================] - 0s 3ms/step - loss: 0.1593 - accuracy: 0.9385 - val_loss: 0.2248 - val_accuracy: 0.8986\n",
            "Epoch 97/100\n",
            "39/39 [==============================] - 0s 3ms/step - loss: 0.1585 - accuracy: 0.9320 - val_loss: 0.1982 - val_accuracy: 0.9130\n",
            "Epoch 98/100\n",
            "39/39 [==============================] - 0s 3ms/step - loss: 0.1471 - accuracy: 0.9369 - val_loss: 0.1707 - val_accuracy: 0.9130\n",
            "Epoch 99/100\n",
            "39/39 [==============================] - 0s 3ms/step - loss: 0.1503 - accuracy: 0.9320 - val_loss: 0.1577 - val_accuracy: 0.9275\n",
            "Epoch 100/100\n",
            "39/39 [==============================] - 0s 3ms/step - loss: 0.1399 - accuracy: 0.9304 - val_loss: 0.2297 - val_accuracy: 0.8841\n"
          ]
        }
      ]
    },
    {
      "cell_type": "code",
      "source": [
        "# Membuat DataFrame dari history\n",
        "history_df = pd.DataFrame(history.history)\n",
        "\n",
        "# Membuat DataFrame terpisah untuk akurasi dan loss\n",
        "accuracy_df = history_df[['accuracy', 'val_accuracy']]\n",
        "loss_df = history_df[['loss', 'val_loss']]\n",
        "\n",
        "# Plot grafik akurasi\n",
        "plt.plot(history.history['accuracy'])\n",
        "plt.plot(history.history['val_accuracy'])\n",
        "plt.title('Model Accuracy')\n",
        "plt.xlabel('Epoch')\n",
        "plt.ylabel('Accuracy')\n",
        "plt.legend(['Train Accuracy', 'Val Accuracy'])\n",
        "plt.show()\n",
        "\n",
        "# Plot grafik loss\n",
        "plt.plot(history.history['loss'])\n",
        "plt.plot(history.history['val_loss'])\n",
        "plt.title('Model Loss')\n",
        "plt.xlabel('Epoch')\n",
        "plt.ylabel('Loss')\n",
        "plt.legend(['Train Loss', 'Val Loss'])\n",
        "plt.show()"
      ],
      "metadata": {
        "colab": {
          "base_uri": "https://localhost:8080/",
          "height": 927
        },
        "id": "96u-J1BRoYOZ",
        "outputId": "05553908-e11c-4bc4-c3b8-4135b2575cd5"
      },
      "execution_count": 102,
      "outputs": [
        {
          "output_type": "display_data",
          "data": {
            "text/plain": [
              "<Figure size 640x480 with 1 Axes>"
            ],
            "image/png": "[encoded data removed]"
          },
          "metadata": {}
        },
        {
          "output_type": "display_data",
          "data": {
            "text/plain": [
              "<Figure size 640x480 with 1 Axes>"
            ],
            "image/png": "[encoded data removed]"
          },
          "metadata": {}
        }
      ]
    },
    {
      "cell_type": "code",
      "source": [
        "# Melakukan prediksi dengan gejala baru\n",
        "new_gejala = x_test\n",
        "predictions = model.predict(new_gejala)\n",
        "predicted_label = tf.argmax(predictions, axis=1)\n",
        "\n",
        "print(\"Hasil prediksi:\", predicted_label.numpy())"
      ],
      "metadata": {
        "colab": {
          "base_uri": "https://localhost:8080/"
        },
        "id": "dEIJgiOaoc-6",
        "outputId": "079bbe8a-ac47-400d-cfc0-ff64b4e9961c"
      },
      "execution_count": 103,
      "outputs": [
        {
          "output_type": "stream",
          "name": "stdout",
          "text": [
            "3/3 [==============================] - 0s 3ms/step\n",
            "Hasil prediksi: [0 1 2 1 1 3 0 1 3 1 3 3 1 5 1 2 2 2 1 4 1 5 0 0 0 2 2 3 3 5 5 5 2 0 5 1 3\n",
            " 4 5 2 3 1 3 2 4 1 1 0 1 1 0 2 4 2 5 4 3 3 3 2 5 1 2 3 0 3 2 5 0]\n"
          ]
        }
      ]
    },
    {
      "cell_type": "code",
      "source": [
        "actual = np.array(y_test)"
      ],
      "metadata": {
        "id": "MiIcD2gxvrJR"
      },
      "execution_count": 104,
      "outputs": []
    },
    {
      "cell_type": "code",
      "source": [
        "cm = confusion_matrix(actual, predicted_label.numpy()) \n",
        "cm"
      ],
      "metadata": {
        "colab": {
          "base_uri": "https://localhost:8080/"
        },
        "id": "8TVd1waSwo8D",
        "outputId": "185ebde4-868f-48cf-d7e2-7ecceed9556e"
      },
      "execution_count": 105,
      "outputs": [
        {
          "output_type": "execute_result",
          "data": {
            "text/plain": [
              "array([[ 9,  2,  0,  0,  0,  0],\n",
              "       [ 0, 12,  0,  0,  0,  0],\n",
              "       [ 0,  0, 13,  0,  0,  0],\n",
              "       [ 0,  0,  1, 14,  0,  1],\n",
              "       [ 1,  0,  0,  0,  5,  1],\n",
              "       [ 0,  2,  0,  0,  0,  8]])"
            ]
          },
          "metadata": {},
          "execution_count": 105
        }
      ]
    },
    {
      "cell_type": "code",
      "source": [
        "from sklearn.metrics import balanced_accuracy_score\n",
        "result_prediction = 100*balanced_accuracy_score(actual, predicted_label.numpy())\n",
        "print(f\"AKURASI TERHADAP DATA TEST DENGAN PERSENTASE TINGKAT PREDIKSI YANG BENAR ADALAH {result_prediction}%\")"
      ],
      "metadata": {
        "id": "BHyENQ2losjX",
        "colab": {
          "base_uri": "https://localhost:8080/"
        },
        "outputId": "9cb5c849-ef52-4e6e-df76-3fa8acb8a3f8"
      },
      "execution_count": 106,
      "outputs": [
        {
          "output_type": "stream",
          "name": "stdout",
          "text": [
            "AKURASI TERHADAP DATA TEST DENGAN PERSENTASE TINGKAT PREDIKSI YANG BENAR ADALAH 86.79112554112555%\n"
          ]
        }
      ]
    },
    {
      "cell_type": "code",
      "source": [
        "import tempfile\n",
        "MODEL_DIR = tempfile.gettempdir()\n",
        "\n",
        "version = 1\n",
        "\n",
        "export_path = os.path.join(MODEL_DIR, str(version))\n",
        "\n",
        "if os.path.isdir(export_path):\n",
        "    print('\\nAlready saved a model, cleaning up\\n')\n",
        "    !rm -r {export_path}\n",
        "\n",
        "model.save(export_path, save_format=\"tf\")\n",
        "\n",
        "print('\\nexport_path = {}'.format(export_path))\n",
        "!ls -l {export_path}"
      ],
      "metadata": {
        "colab": {
          "base_uri": "https://localhost:8080/"
        },
        "id": "Kkukm26qquGv",
        "outputId": "18ff67a2-014a-4750-c882-c241d7f24f01"
      },
      "execution_count": 107,
      "outputs": [
        {
          "output_type": "stream",
          "name": "stdout",
          "text": [
            "\n",
            "Already saved a model, cleaning up\n",
            "\n"
          ]
        },
        {
          "output_type": "stream",
          "name": "stderr",
          "text": [
            "WARNING:absl:Found untraced functions such as _update_step_xla while saving (showing 1 of 1). These functions will not be directly callable after loading.\n"
          ]
        },
        {
          "output_type": "stream",
          "name": "stdout",
          "text": [
            "\n",
            "export_path = /tmp/1\n",
            "total 152\n",
            "drwxr-xr-x 2 root root   4096 Jun  2 04:07 assets\n",
            "-rw-r--r-- 1 root root     57 Jun  2 04:07 fingerprint.pb\n",
            "-rw-r--r-- 1 root root  10765 Jun  2 04:07 keras_metadata.pb\n",
            "-rw-r--r-- 1 root root 127829 Jun  2 04:07 saved_model.pb\n",
            "drwxr-xr-x 2 root root   4096 Jun  2 04:07 variables\n"
          ]
        }
      ]
    },
    {
      "cell_type": "code",
      "source": [
        "# Intialize the TFLite converter to load the SavedModel\n",
        "converter = tf.lite.TFLiteConverter.from_saved_model(export_path)\n",
        "\n",
        "# Set the optimization strategy for 'size' in the converter \n",
        "converter.optimizations = [tf.lite.Optimize.DEFAULT]\n",
        "\n",
        "# Use the tool to finally convert the model\n",
        "tflite_model = converter.convert()\n",
        "\n",
        "# Write TFLite model\n",
        "tflite_model_file = 'alergy_model.tflite'\n",
        "\n",
        "with open(tflite_model_file, \"wb\") as f:\n",
        "    f.write(tflite_model)"
      ],
      "metadata": {
        "id": "5LTzRxFUrIy8"
      },
      "execution_count": 108,
      "outputs": []
    },
    {
      "cell_type": "code",
      "source": [
        "try:\n",
        "  files.download('alergy_model.tflite')\n",
        "except:\n",
        "  pass"
      ],
      "metadata": {
        "id": "kjff5BVM7PFw"
      },
      "execution_count": 109,
      "outputs": []
    },
    {
      "cell_type": "markdown",
      "source": [
        "**Testing**\n",
        "checking for tflite file"
      ],
      "metadata": {
        "id": "ENOrOEQZIFIb"
      }
    },
    {
      "cell_type": "code",
      "source": [
        "#Check Input Tensor Shape\n",
        "tflite_model_path = \"alergy_model.tflite\""
      ],
      "metadata": {
        "id": "8NppUEQ4GU2a"
      },
      "execution_count": 110,
      "outputs": []
    },
    {
      "cell_type": "code",
      "source": [
        "interpreter = tf.lite.Interpreter(model_path = tflite_model_path)\n",
        "input_details = interpreter.get_input_details()\n",
        "output_details = interpreter.get_output_details()\n",
        "print(\"Input Shape:\", input_details[0]['shape'])\n",
        "print(\"Input Type:\", input_details[0]['dtype'])\n",
        "print(\"Output Shape:\", output_details[0]['shape'])\n",
        "print(\"Output Type:\", output_details[0]['dtype'])"
      ],
      "metadata": {
        "colab": {
          "base_uri": "https://localhost:8080/"
        },
        "id": "HawK_lh48AGv",
        "outputId": "e09d17a6-afe2-45b3-9f66-6c44c8e83ec1"
      },
      "execution_count": 111,
      "outputs": [
        {
          "output_type": "stream",
          "name": "stdout",
          "text": [
            "Input Shape: [ 1 19]\n",
            "Input Type: <class 'numpy.float32'>\n",
            "Output Shape: [1 6]\n",
            "Output Type: <class 'numpy.float32'>\n"
          ]
        }
      ]
    },
    {
      "cell_type": "code",
      "source": [
        "# Membuat interpreter TensorFlow Lite\n",
        "interpreter = tf.lite.Interpreter(model_path=tflite_model_path)\n",
        "\n",
        "# Memuat model TFLite\n",
        "interpreter.allocate_tensors()"
      ],
      "metadata": {
        "id": "A260s17J_LNs"
      },
      "execution_count": 112,
      "outputs": []
    },
    {
      "cell_type": "code",
      "source": [
        "input_details[0]['shape']\n",
        "output_details[0]['shape']"
      ],
      "metadata": {
        "colab": {
          "base_uri": "https://localhost:8080/"
        },
        "id": "1AXUX3zTJ_r6",
        "outputId": "6900c28b-16cb-4d27-9e82-61af71e5f97b"
      },
      "execution_count": 113,
      "outputs": [
        {
          "output_type": "execute_result",
          "data": {
            "text/plain": [
              "array([1, 6], dtype=int32)"
            ]
          },
          "metadata": {},
          "execution_count": 113
        }
      ]
    },
    {
      "cell_type": "code",
      "source": [
        "# Membuat array input\n",
        "input_data = np.array([[1, 1, 1, 0, 0, 0, 0, 0, 0, 1, 0, 0, 0, 1, 0, 0, 0, 0, 0]], dtype=np.float32)\n",
        "\n",
        "# Membuat interpreter TensorFlow Lite\n",
        "interpreter = tf.lite.Interpreter(model_path=tflite_model_path)\n",
        "\n",
        "# Memuat model TFLite\n",
        "interpreter.allocate_tensors()\n",
        "\n",
        "# Mendapatkan input dan output tensor dari interpreter\n",
        "input_details = interpreter.get_input_details()\n",
        "output_details = interpreter.get_output_details()\n",
        "\n",
        "# Menetapkan data input ke tensor input\n",
        "interpreter.set_tensor(input_details[0]['index'], input_data)\n",
        "\n",
        "# Menjalankan inferensi\n",
        "interpreter.invoke()\n",
        "\n",
        "# Mendapatkan output dari tensor output\n",
        "output_data = interpreter.get_tensor(output_details[0]['index'])\n",
        "\n",
        "# Melakukan sesuatu dengan output\n",
        "print(output_data)"
      ],
      "metadata": {
        "colab": {
          "base_uri": "https://localhost:8080/"
        },
        "id": "uVNYHSiXIZvN",
        "outputId": "a771f389-03b9-4f3b-90a7-189499e510c2"
      },
      "execution_count": 114,
      "outputs": [
        {
          "output_type": "stream",
          "name": "stdout",
          "text": [
            "[[2.2465903e-04 2.1147719e-02 2.1428283e-04 9.7335025e-05 4.9088736e-05\n",
            "  9.7826684e-01]]\n"
          ]
        }
      ]
    }
  ]
}